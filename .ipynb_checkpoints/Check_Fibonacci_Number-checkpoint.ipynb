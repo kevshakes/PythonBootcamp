{
 "cells": [
  {
   "cell_type": "code",
   "execution_count": 9,
   "id": "49f37de4",
   "metadata": {},
   "outputs": [
    {
     "name": "stdout",
     "output_type": "stream",
     "text": [
      "Enter a number: 45\n",
      "45 is a not Fibonacci Number \n"
     ]
    }
   ],
   "source": [
    "# python program to check if a number is in the Fibonacci Sequence\n",
    "#Kevin Tuei\n",
    "import math\n",
    "\n",
    "# A utility function thatchecks whether x is perfect square\n",
    "\n",
    "def isPerfectSquare(x):\n",
    "    s = int(math.sqrt(x))\n",
    "    return s*s == x\n",
    "\n",
    "# Returns true if n is a Fibonacci Number, else false\n",
    "def isFibonacci(n):\n",
    "\n",
    "    # n is Fibonacci if one of 5*n*n + 4 or 5*n*n - 4 or both\n",
    "    # is a perfect square\n",
    "    return isPerfectSquare(5*n*n + 4) or isPerfectSquare(5*n*n - 4)\n",
    "\n",
    "        \n",
    "# Take input from the user and convert to integer\n",
    "num = int(input(\"Enter a number: \"))\n",
    "\n",
    "#Call Python Function and pass the user input to it\n",
    "if (isFibonacci(num) == True):\n",
    "    print (num,\"is a Fibonacci Number\")\n",
    "else:\n",
    "    print (num,\"is a not Fibonacci Number \")\n"
   ]
  },
  {
   "cell_type": "code",
   "execution_count": null,
   "id": "a2386ee7",
   "metadata": {},
   "outputs": [],
   "source": []
  }
 ],
 "metadata": {
  "kernelspec": {
   "display_name": "Python 3",
   "language": "python",
   "name": "python3"
  },
  "language_info": {
   "codemirror_mode": {
    "name": "ipython",
    "version": 3
   },
   "file_extension": ".py",
   "mimetype": "text/x-python",
   "name": "python",
   "nbconvert_exporter": "python",
   "pygments_lexer": "ipython3",
   "version": "3.8.8"
  }
 },
 "nbformat": 4,
 "nbformat_minor": 5
}
