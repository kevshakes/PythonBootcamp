{
 "cells": [
  {
   "cell_type": "code",
   "execution_count": 17,
   "id": "66b14719",
   "metadata": {},
   "outputs": [
    {
     "name": "stdout",
     "output_type": "stream",
     "text": [
      "Enter a number: 7\n",
      "7 is a prime number\n"
     ]
    }
   ],
   "source": [
    "# Python function to check if a number is prime or not\n",
    "# Kevin Tuei\n",
    "\n",
    "def isPrime(num): \n",
    "    # define a flag variable to be used by the function\n",
    "    flag = True\n",
    "    # prime numbers must be greater than 1\n",
    "    if num == 1:\n",
    "        flag = False\n",
    "    if num > 1:\n",
    "        # check for factors\n",
    "        for i in range(2, num):\n",
    "            if (num % i) == 0:\n",
    "                # if a factor is found, set flag to False\n",
    "                flag = False\n",
    "                # break out of loop\n",
    "                break\n",
    "    # check if flag is True then number is prime else number is not prime\n",
    "    if flag:\n",
    "        return print(num, \"is a prime number\")\n",
    "    else:\n",
    "        return print(num, \"is not a prime number\")\n",
    "    \n",
    "# Take input from the user and convert to integer\n",
    "num = int(input(\"Enter a number: \"))\n",
    "\n",
    "#Call Python Function and pass the user input to it\n",
    "isPrime(num)\n",
    "        "
   ]
  },
  {
   "cell_type": "code",
   "execution_count": null,
   "id": "2ca0870d",
   "metadata": {},
   "outputs": [],
   "source": []
  },
  {
   "cell_type": "code",
   "execution_count": null,
   "id": "c98eb8ae",
   "metadata": {},
   "outputs": [],
   "source": []
  }
 ],
 "metadata": {
  "kernelspec": {
   "display_name": "Python 3",
   "language": "python",
   "name": "python3"
  },
  "language_info": {
   "codemirror_mode": {
    "name": "ipython",
    "version": 3
   },
   "file_extension": ".py",
   "mimetype": "text/x-python",
   "name": "python",
   "nbconvert_exporter": "python",
   "pygments_lexer": "ipython3",
   "version": "3.8.8"
  }
 },
 "nbformat": 4,
 "nbformat_minor": 5
}
